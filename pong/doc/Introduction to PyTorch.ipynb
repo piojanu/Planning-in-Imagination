{
 "cells": [
  {
   "cell_type": "markdown",
   "metadata": {},
   "source": [
    "## Import PyTorch"
   ]
  },
  {
   "cell_type": "code",
   "execution_count": null,
   "metadata": {},
   "outputs": [],
   "source": [
    "import torch"
   ]
  },
  {
   "cell_type": "markdown",
   "metadata": {},
   "source": [
    "## Define a tensor"
   ]
  },
  {
   "cell_type": "code",
   "execution_count": null,
   "metadata": {},
   "outputs": [],
   "source": [
    "dtype = torch.FloatTensor if not torch.cuda.is_available() else torch.cuda.FloatTensor"
   ]
  },
  {
   "cell_type": "markdown",
   "metadata": {},
   "source": [
    "## Define model"
   ]
  },
  {
   "cell_type": "code",
   "execution_count": null,
   "metadata": {},
   "outputs": [],
   "source": [
    "import torch.nn as nn\n",
    "import torch.nn.functional as F\n",
    "\n",
    "input_size = 80 * 80\n",
    "hidden_size = 200\n",
    "\n",
    "class PolicyGradient(nn.Module):\n",
    "    \n",
    "    def __init__(self):\n",
    "        super(PolicyGradient, self).__init__()\n",
    "        self.hidden = nn.Linear(input_size, hidden_size)\n",
    "        self.out = nn.Linear(hidden_size, 3)\n",
    "        if torch.cuda.is_available(): self.cuda()\n",
    "        self.actions = []\n",
    "\n",
    "    def forward(self, x):\n",
    "        h = F.relu(self.hidden(x))\n",
    "        logits = F.relu(self.out(h))\n",
    "        probabilities = F.softmax(logits)\n",
    "        return probabilities\n",
    "    \n",
    "    def reset(self):\n",
    "        self.actions = []\n",
    "    \n",
    "policy = PolicyGradient()\n",
    "print(policy)"
   ]
  },
  {
   "cell_type": "markdown",
   "metadata": {},
   "source": [
    "## Prepare gym env"
   ]
  },
  {
   "cell_type": "code",
   "execution_count": null,
   "metadata": {},
   "outputs": [],
   "source": [
    "import gym\n",
    "env = gym.make(\"Pong-v0\")\n",
    "observation = env.reset()\n",
    "prev_x = None # used in computing the difference frame"
   ]
  },
  {
   "cell_type": "markdown",
   "metadata": {},
   "source": [
    "## Image preprocessing\n"
   ]
  },
  {
   "cell_type": "code",
   "execution_count": null,
   "metadata": {},
   "outputs": [],
   "source": [
    "import numpy as np\n",
    "\n",
    "def preprocess(I):\n",
    "  \"\"\" preprocess 210x160x3 uint8 frame into 6400 (80x80) 1D float vector \"\"\"\n",
    "  I = I[35:195] # crop\n",
    "  I = I[::2,::2,0] # downsample by factor of 2\n",
    "  I[I == 144] = 0 # erase background (background type 1)\n",
    "  I[I == 109] = 0 # erase background (background type 2)\n",
    "  I[I != 0] = 1 # everything else (paddles, ball) just set to 1\n",
    "  return I.astype(np.float).ravel()"
   ]
  },
  {
   "cell_type": "markdown",
   "metadata": {},
   "source": [
    "## Test if preprocessing and model works"
   ]
  },
  {
   "cell_type": "code",
   "execution_count": null,
   "metadata": {},
   "outputs": [],
   "source": [
    "from torch.autograd import Variable\n",
    "\n",
    "preprocessed_observation = preprocess(observation)\n",
    "print(preprocessed_observation)\n",
    "print(preprocessed_observation.shape)\n",
    "\n",
    "in_state = Variable(torch.from_numpy(np.zeros(len(preprocessed_observation))).type(dtype).unsqueeze(0))\n",
    "\n",
    "output = policy.forward(in_state)\n",
    "print(output.data[0])"
   ]
  },
  {
   "cell_type": "markdown",
   "metadata": {},
   "source": [
    "## Getting action"
   ]
  },
  {
   "cell_type": "code",
   "execution_count": null,
   "metadata": {},
   "outputs": [],
   "source": [
    "def get_action(observation):\n",
    "    current_state = preprocess(observation)\n",
    "    if get_action.prev_state is None:\n",
    "        get_action.prev_state = current_state\n",
    "    diff_state = current_state - get_action.prev_state\n",
    "    get_action.prev_state = current_state\n",
    "    var_state = Variable(torch.from_numpy(diff_state).type(dtype).unsqueeze(0))\n",
    "    policy_action = policy.forward(var_state)\n",
    "    out_action = policy_action.multinomial()\n",
    "    policy.actions.append(out_action)\n",
    "    return out_action.data[0,0] + 1 # Pong specific\n",
    "    "
   ]
  },
  {
   "cell_type": "markdown",
   "metadata": {},
   "source": [
    "## Test getting action"
   ]
  },
  {
   "cell_type": "code",
   "execution_count": null,
   "metadata": {},
   "outputs": [],
   "source": [
    "get_action.prev_state = None\n",
    "for i in range(100):\n",
    "    action = get_action(observation)\n",
    "    print(action)\n",
    "    print(policy.actions)"
   ]
  },
  {
   "cell_type": "markdown",
   "metadata": {},
   "source": [
    "## Prepare optimizer"
   ]
  },
  {
   "cell_type": "code",
   "execution_count": null,
   "metadata": {},
   "outputs": [],
   "source": [
    "import torch.optim as optim\n",
    "\n",
    "learning_rate = 1e-3\n",
    "weight_decay = 1e-3\n",
    "\n",
    "optimizer = optim.RMSprop(\n",
    "    policy.parameters(),\n",
    "    lr=learning_rate,\n",
    "    weight_decay=weight_decay\n",
    ")\n",
    "optimizer.zero_grad()"
   ]
  },
  {
   "cell_type": "markdown",
   "metadata": {},
   "source": [
    "## Discounting reward"
   ]
  },
  {
   "cell_type": "code",
   "execution_count": null,
   "metadata": {},
   "outputs": [],
   "source": [
    "gamma = 0.99\n",
    "\n",
    "def discount_rewards(rewards):\n",
    "    current_reward = 0\n",
    "    out_rewards = []\n",
    "    for i in reversed(range(len(rewards))):\n",
    "        if rewards[i] != 0:\n",
    "            current_reward = 0 # Reset sum between lossing ball\n",
    "        current_reward = gamma * current_reward + rewards[i]\n",
    "        out_rewards.insert(0, current_reward)\n",
    "    return out_rewards"
   ]
  },
  {
   "cell_type": "code",
   "execution_count": null,
   "metadata": {},
   "outputs": [],
   "source": [
    "dummy_rewards = [0,0,0,1]\n",
    "out_rewards = discount_rewards(dummy_rewards)\n",
    "print(out_rewards)"
   ]
  },
  {
   "cell_type": "markdown",
   "metadata": {},
   "source": [
    "## Main training loop"
   ]
  },
  {
   "cell_type": "code",
   "execution_count": null,
   "metadata": {},
   "outputs": [],
   "source": [
    "import torch.autograd as autograd\n",
    "\n",
    "rewards = []\n",
    "reward_sum = 0\n",
    "batch_size = 8\n",
    "num_episodes = 0\n",
    "while True:\n",
    "    action = get_action(observation)\n",
    "    observation, reward, done, _ = env.step(action)\n",
    "    rewards.append(reward)\n",
    "    reward_sum += reward\n",
    "    \n",
    "    if done:\n",
    "        num_episodes += 1\n",
    "        discounted_rewards = discount_rewards(rewards)\n",
    "        rewards_tensor = dtype(discounted_rewards)\n",
    "        rewards_tensor = (rewards_tensor- rewards_tensor.mean())/(rewards_tensor.std() + np.finfo(np.float32).eps)\n",
    "        rewards_tensor = rewards_tensor / batch_size\n",
    "        print(rewards_tensor)\n",
    "        for action, reward in zip(policy.actions, rewards_tensor):\n",
    "            action.reinforce(reward)\n",
    "            \n",
    "        autograd.backward(policy.actions, [None for a in policy.actions])\n",
    "\n",
    "        if num_episodes % batch_size == 0:\n",
    "            optimizer.step()\n",
    "            optimizer.zero_grad()\n",
    "            print(\"Updated parameters\")\n",
    "            \n",
    "        policy.reset()\n",
    "        observation = env.reset()\n",
    "        get_action.prev_state = None\n",
    "        \n",
    "        reward_factor = 1 / num_episodes\n",
    "        \n",
    "        running_reward = reward_sum if running_reward is None else \\\n",
    "            running_reward * (1 - reward_factor) + reward_sum * reward_factor\n",
    "        print('{:>5} | {} | Episode reward total was {:d}. Running mean: {:.5f}' \\\n",
    "            .format(num_episodes, datetime.now().strftime('%H:%M:%S'),\n",
    "                    int(reward_sum), running_reward))\n",
    "        if num_episodes % 25 == 0:\n",
    "            directory = 'models'\n",
    "            if len(directory) > 0 and directory[-1] == '/':\n",
    "                directory = directory[0:-1]\n",
    "\n",
    "            path = \"{}/model_rr_{:.3f}_epi_{}.pt\".format(\n",
    "                directory, running_reward, num_episodes)\n",
    "            torch.save(policy.state_dict(), path)\n",
    "            print(\"### Saved model: {} ###\".format(path))\n"
   ]
  }
 ],
 "metadata": {
  "kernelspec": {
   "display_name": "Python 3",
   "language": "python",
   "name": "python3"
  },
  "language_info": {
   "codemirror_mode": {
    "name": "ipython",
    "version": 3
   },
   "file_extension": ".py",
   "mimetype": "text/x-python",
   "name": "python",
   "nbconvert_exporter": "python",
   "pygments_lexer": "ipython3",
   "version": "3.6.3"
  }
 },
 "nbformat": 4,
 "nbformat_minor": 2
}
